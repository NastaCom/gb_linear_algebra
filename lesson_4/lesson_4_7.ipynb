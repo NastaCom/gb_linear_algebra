{
 "cells": [
  {
   "cell_type": "markdown",
   "metadata": {},
   "source": [
    "## Task #1"
   ]
  },
  {
   "cell_type": "markdown",
   "metadata": {},
   "source": [
    "Решить систему уравнений методом Крамера:\n",
    "\n",
    "   а) $\\begin{cases}\n",
    "x_{1}-2x_{2}=1 \\\\\n",
    "3x_{1}-4x_{2}=7\n",
    "\\end{cases}$"
   ]
  },
  {
   "cell_type": "markdown",
   "metadata": {},
   "source": [
    "$A = \n",
    "\\begin{pmatrix}\n",
    "1 & -2 \\\\ \n",
    "3 & -4\n",
    "\\end{pmatrix}$"
   ]
  },
  {
   "cell_type": "markdown",
   "metadata": {},
   "source": [
    "$detA=\\begin{vmatrix}\n",
    "1 & -2\\\\ \n",
    "3 & -4\n",
    "\\end{vmatrix} = 2$"
   ]
  },
  {
   "cell_type": "markdown",
   "metadata": {},
   "source": [
    "$detA_1=\\begin{vmatrix}\n",
    "1 & -2\\\\ \n",
    "7 & -4\n",
    "\\end{vmatrix} = 10$"
   ]
  },
  {
   "cell_type": "markdown",
   "metadata": {},
   "source": [
    "$detA_2=\\begin{vmatrix}\n",
    "1 & 1\\\\ \n",
    "3 & 7\n",
    "\\end{vmatrix} = 4$"
   ]
  },
  {
   "cell_type": "markdown",
   "metadata": {},
   "source": [
    "$x_1 = \\frac{10}{2} = 5$\n",
    "\n",
    "$x_2 = \\frac{4}{2} = 2$"
   ]
  },
  {
   "cell_type": "markdown",
   "metadata": {},
   "source": [
    "\n",
    "    \n",
    "   б) $\\begin{cases}\n",
    "2x_{1}-x_{2}+5x_{3}=10 \\\\\n",
    "x_{1}+x_{2}-3x_{3}=-2 \\\\\n",
    "2x_{1}+4x_{2}+x_{3}=1\n",
    "\\end{cases}$"
   ]
  },
  {
   "cell_type": "markdown",
   "metadata": {},
   "source": [
    "$A = \n",
    "\\begin{pmatrix}\n",
    "2 & -1 & 5 \\\\ \n",
    "1 & 1 & -3 \\\\\n",
    "2 & 4 & 1\n",
    "\\end{pmatrix}$"
   ]
  },
  {
   "cell_type": "markdown",
   "metadata": {},
   "source": [
    "$detA=\\begin{vmatrix}\n",
    "2 & -1 & 5 \\\\ \n",
    "1 & 1 & -3 \\\\\n",
    "2 & 4 & 1\n",
    "\\end{vmatrix} = 2 \n",
    "\\begin{vmatrix}\n",
    "1 & -3 \\\\\n",
    "4 & 1\n",
    "\\end{vmatrix} + \n",
    "\\begin{vmatrix}\n",
    "1 & -3 \\\\\n",
    "2 & 1\n",
    "\\end{vmatrix} + 5\n",
    "\\begin{vmatrix}\n",
    "1 & 1 \\\\\n",
    "2 & 4\n",
    "\\end{vmatrix} = 26 + 7 + 10 = 43$"
   ]
  },
  {
   "cell_type": "markdown",
   "metadata": {},
   "source": [
    "$detA_1=\\begin{vmatrix}\n",
    "10 & -1 & 5 \\\\ \n",
    "-2 & 1 & -3 \\\\\n",
    "1 & 4 & 1\n",
    "\\end{vmatrix} = 10 \n",
    "\\begin{vmatrix}\n",
    "1 & -3 \\\\\n",
    "4 & 1\n",
    "\\end{vmatrix} + \n",
    "\\begin{vmatrix}\n",
    "-2 & -3 \\\\\n",
    "1 & 1\n",
    "\\end{vmatrix} + 5\n",
    "\\begin{vmatrix}\n",
    "-2 & 1 \\\\\n",
    "1 & 4\n",
    "\\end{vmatrix} = 130 + 1 - 45 = 86$"
   ]
  },
  {
   "cell_type": "markdown",
   "metadata": {},
   "source": [
    "$detA_2=\\begin{vmatrix}\n",
    "2 & 10 & 5 \\\\ \n",
    "1 & -2 & -3 \\\\\n",
    "2 & 1 & 1\n",
    "\\end{vmatrix} = 2 \n",
    "\\begin{vmatrix}\n",
    "-2 & -3 \\\\\n",
    "1 & 1\n",
    "\\end{vmatrix} - 10\n",
    "\\begin{vmatrix}\n",
    "1 & -3 \\\\\n",
    "2 & 1\n",
    "\\end{vmatrix} + 5\n",
    "\\begin{vmatrix}\n",
    "1 & -2 \\\\\n",
    "2 & 1\n",
    "\\end{vmatrix} = 2 - 70 + 25 = -43$"
   ]
  },
  {
   "cell_type": "markdown",
   "metadata": {},
   "source": [
    "$detA_3=\\begin{vmatrix}\n",
    "2 & -1 & 10 \\\\ \n",
    "1 & 1 & -2 \\\\\n",
    "2 & 4 & 1\n",
    "\\end{vmatrix} = 2 \n",
    "\\begin{vmatrix}\n",
    "1 & -2 \\\\\n",
    "4 & 1\n",
    "\\end{vmatrix} +\n",
    "\\begin{vmatrix}\n",
    "1 & -2 \\\\\n",
    "2 & 1\n",
    "\\end{vmatrix} + 10\n",
    "\\begin{vmatrix}\n",
    "1 & 1 \\\\\n",
    "2 & 4\n",
    "\\end{vmatrix} = 18 + 5 + 20 = 43$"
   ]
  },
  {
   "cell_type": "markdown",
   "metadata": {},
   "source": [
    "$x_1 = 2$\n",
    "\n",
    "$x_2 = -1$\n",
    "\n",
    "$x_3 = 1$"
   ]
  },
  {
   "cell_type": "code",
   "execution_count": null,
   "metadata": {},
   "outputs": [],
   "source": []
  }
 ],
 "metadata": {
  "kernelspec": {
   "display_name": "Python 3",
   "language": "python",
   "name": "python3"
  },
  "language_info": {
   "codemirror_mode": {
    "name": "ipython",
    "version": 3
   },
   "file_extension": ".py",
   "mimetype": "text/x-python",
   "name": "python",
   "nbconvert_exporter": "python",
   "pygments_lexer": "ipython3",
   "version": "3.8.3"
  }
 },
 "nbformat": 4,
 "nbformat_minor": 4
}
