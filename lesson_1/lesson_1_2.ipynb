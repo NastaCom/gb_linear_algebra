{
 "cells": [
  {
   "cell_type": "markdown",
   "metadata": {},
   "source": [
    "## Task #1"
   ]
  },
  {
   "cell_type": "markdown",
   "metadata": {},
   "source": [
    "а) $x=(0,-3, 6),~y=(-4, 7, 9);$"
   ]
  },
  {
   "cell_type": "markdown",
   "metadata": {},
   "source": [
    "$(x,y) = 0 - 21 + 54 = 33$"
   ]
  },
  {
   "cell_type": "markdown",
   "metadata": {},
   "source": [
    "б) $x=(7, -4, 0, 1),~y=(-3, 1, 11, 2).$"
   ]
  },
  {
   "cell_type": "markdown",
   "metadata": {},
   "source": [
    "$(x,y) = -21 - 4 + 0 + 2 = -23$"
   ]
  },
  {
   "cell_type": "markdown",
   "metadata": {},
   "source": [
    "## Task #2"
   ]
  },
  {
   "cell_type": "markdown",
   "metadata": {},
   "source": [
    "Найти нормы векторов $(4, 2, 4)$ и $(12, 3, 4)$ и угол между ними."
   ]
  },
  {
   "cell_type": "markdown",
   "metadata": {},
   "source": [
    "Манхэттенская норма векторов $x_{1}$ и $x_{2}$:\n",
    "\n",
    "$\\left\\|x_{1}\\right\\|_{1} = |4|+|2|+|-4|=10$<br>\n",
    "$\\left\\|x_{2}\\right\\|_{1} = |12|+|3|+|4|=19$"
   ]
  },
  {
   "cell_type": "markdown",
   "metadata": {},
   "source": [
    "Евлидова норма векторов $x_{1}$ и $x_{2}$:\n",
    "\n",
    "$\\left\\|x_{1}\\right\\|_{2} = \\sqrt{4^{2}+2^{2}+(-4)^{2}}=6$<br>\n",
    "$\\left\\|x_{2}\\right\\|_{2} = \\sqrt{12^{2}+3^{2}+4^{2}}=13$"
   ]
  },
  {
   "cell_type": "markdown",
   "metadata": {},
   "source": [
    "### $\\cos\\varphi = \\frac{(x,y)}{\\left \\|x\\right \\|\\cdot\\left \\|y\\right \\|} = \\frac{4 \\cdot 12 + 2 \\cdot 3 + (-4) \\cdot 4}{6 \\cdot 13}\\approx 0.49$"
   ]
  },
  {
   "cell_type": "markdown",
   "metadata": {},
   "source": [
    "### $\\varphi \\approx 1.06 \\pi$"
   ]
  },
  {
   "cell_type": "code",
   "execution_count": 10,
   "metadata": {},
   "outputs": [
    {
     "data": {
      "text/plain": [
       "0.48717948717948717"
      ]
     },
     "execution_count": 10,
     "metadata": {},
     "output_type": "execute_result"
    }
   ],
   "source": [
    "(4*12+2*3+(-4)*4) / (6*13)"
   ]
  },
  {
   "cell_type": "code",
   "execution_count": 2,
   "metadata": {},
   "outputs": [],
   "source": [
    "import numpy as np"
   ]
  },
  {
   "cell_type": "code",
   "execution_count": 5,
   "metadata": {},
   "outputs": [],
   "source": [
    "a = np.array([4, 2, -4])\n",
    "b = np.array([12, 3, 4])"
   ]
  },
  {
   "cell_type": "code",
   "execution_count": 6,
   "metadata": {},
   "outputs": [
    {
     "data": {
      "text/plain": [
       "38"
      ]
     },
     "execution_count": 6,
     "metadata": {},
     "output_type": "execute_result"
    }
   ],
   "source": [
    "np.dot(a,b)"
   ]
  },
  {
   "cell_type": "code",
   "execution_count": 7,
   "metadata": {},
   "outputs": [],
   "source": [
    "from numpy.linalg import norm"
   ]
  },
  {
   "cell_type": "code",
   "execution_count": 9,
   "metadata": {},
   "outputs": [
    {
     "data": {
      "text/plain": [
       "0.48717948717948717"
      ]
     },
     "execution_count": 9,
     "metadata": {},
     "output_type": "execute_result"
    }
   ],
   "source": [
    "cos_phi = np.dot(a, b) / norm(a) / norm(b)\n",
    "cos_phi"
   ]
  },
  {
   "cell_type": "code",
   "execution_count": 12,
   "metadata": {},
   "outputs": [
    {
     "data": {
      "text/plain": [
       "1.0619392054841388"
      ]
     },
     "execution_count": 12,
     "metadata": {},
     "output_type": "execute_result"
    }
   ],
   "source": [
    "np.arccos(cos_phi)"
   ]
  },
  {
   "cell_type": "markdown",
   "metadata": {},
   "source": [
    "## Task #3"
   ]
  },
  {
   "cell_type": "markdown",
   "metadata": {},
   "source": [
    "Будет ли линейное пространство евклидовым, если за скалярное произведение принять:<br>\n",
    "а) произведение длин векторов;<br>\n",
    "б) утроенное обычное скалярное произведение векторов?<br>"
   ]
  },
  {
   "cell_type": "markdown",
   "metadata": {},
   "source": [
    "а)<br>\n",
    "1) $(x,y)= |x| \\cdot |y| = |y| \\cdot |x| =(y,x);$<br>\n",
    "2) $(\\lambda x, y)= |\\lambda x| \\cdot |y| =  \\lambda (|x| \\cdot |y|) = \\lambda(x, y);$<br>\n",
    "3) $(x_{1}+x_{2},y) = |x_{1}+x_{2}| \\cdot |y| = (|x_{1}| \\cdot |y|) + (|x_{2}| \\cdot |y|) = (x_{1},y)+(x_{2},y);$<br>\n",
    "4) $(x, x) = |x|\\cdot|x|\\geq0$, при $x > 0$; $(x,x)=0$, при $x=0.$<br>\n",
    "Ответ: пространство будет евклидовым"
   ]
  },
  {
   "cell_type": "markdown",
   "metadata": {},
   "source": [
    "а)<br>\n",
    "1) $(x,y)= |x| \\cdot |y| = |y| \\cdot |x| =(y,x);$<br>\n",
    "2) $(\\lambda x, y)= |\\lambda x| \\cdot |y| =  \\lambda (|x| \\cdot |y|) = \\lambda(x, y);$<br>\n",
    "3) $(x_{1}+x_{2},y) = |x_{1}+x_{2}| \\cdot |y| = (|x_{1}| \\cdot |y|) + (|x_{2}| \\cdot |y|) = (x_{1},y)+(x_{2},y);$<br>\n",
    "4) $(x, x) = |x|\\cdot|x|\\geq0$, при $x > 0$; $(x,x)=0$, при $x=0.$<br>\n",
    "Ответ: пространство будет евклидовым"
   ]
  },
  {
   "cell_type": "markdown",
   "metadata": {},
   "source": [
    "б) Ответ: пространство будет евклидовым. Утроение никак не повлиет, можно вынести мультипликатор за скобки и получится стандартное евклидово пространство."
   ]
  },
  {
   "cell_type": "markdown",
   "metadata": {},
   "source": [
    "## Task #4"
   ]
  },
  {
   "cell_type": "markdown",
   "metadata": {},
   "source": [
    "Какие из нижеперечисленных векторов образуют ортонормированный базис в линейном пространстве $\\mathbb{R}^{3}$:<br>\n",
    "а) $(1,0,0),(0,0,1)$ - не образуют, так как требуется три вектора для трёхмерного пространства<br>\n",
    "б) $(1/\\sqrt{2},-1/\\sqrt{2},0),(1/\\sqrt{2},1/\\sqrt{2},0), (0,0,1)$ - образуют, так как все векторы имеют длинну равную единице и все скалярные произведения равняются нулю<br>\n",
    "в) $(1/2, -1/2, 0), (0, 1/2, 1/2), (0,0,1)$ - не образуют, так как не все векторы являются единичными<br>\n",
    "г) $(1,0,0),(0,1,0),(0,0,1)$ - образуют, так как все векторы имеют длинну равную единице и все скалярные произведения равняются нулю"
   ]
  }
 ],
 "metadata": {
  "kernelspec": {
   "display_name": "Python 3",
   "language": "python",
   "name": "python3"
  },
  "language_info": {
   "codemirror_mode": {
    "name": "ipython",
    "version": 3
   },
   "file_extension": ".py",
   "mimetype": "text/x-python",
   "name": "python",
   "nbconvert_exporter": "python",
   "pygments_lexer": "ipython3",
   "version": "3.8.3"
  }
 },
 "nbformat": 4,
 "nbformat_minor": 4
}
